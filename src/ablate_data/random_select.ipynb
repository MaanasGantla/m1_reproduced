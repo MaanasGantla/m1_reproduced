{
 "cells": [
  {
   "cell_type": "code",
   "execution_count": 1,
   "metadata": {},
   "outputs": [
    {
     "name": "stdout",
     "output_type": "stream",
     "text": [
      "/data1/xhuan192/codes/med-sipf cache/\n"
     ]
    },
    {
     "name": "stderr",
     "output_type": "stream",
     "text": [
      "/data1/xhuan192/misc/miniconda3/envs/m1/lib/python3.10/site-packages/tqdm/auto.py:21: TqdmWarning: IProgress not found. Please update jupyter and ipywidgets. See https://ipywidgets.readthedocs.io/en/stable/user_install.html\n",
      "  from .autonotebook import tqdm as notebook_tqdm\n"
     ]
    }
   ],
   "source": [
    "import os\n",
    "os.chdir(\"../..\")\n",
    "import dotenv\n",
    "\n",
    "\n",
    "dotenv.load_dotenv(override=True)\n",
    "\n",
    "print(os.getcwd(), os.getenv(\"HF_HOME\"))\n",
    "\n",
    "import json\n",
    "import time\n",
    "from concurrent.futures import ProcessPoolExecutor, as_completed\n",
    "from functools import partial\n",
    "from hashlib import sha256\n",
    "from pathlib import Path\n",
    "\n",
    "import datasets\n",
    "import matplotlib.pyplot as plt\n",
    "import pandas as pd\n",
    "import tqdm\n",
    "import pprint\n",
    "from collections import Counter"
   ]
  },
  {
   "cell_type": "code",
   "execution_count": 2,
   "metadata": {},
   "outputs": [
    {
     "data": {
      "text/plain": [
       "'/data1/xhuan192/codes/med-sipf'"
      ]
     },
     "execution_count": 2,
     "metadata": {},
     "output_type": "execute_result"
    }
   ],
   "source": [
    "os.getcwd()"
   ]
  },
  {
   "cell_type": "code",
   "execution_count": 3,
   "metadata": {},
   "outputs": [],
   "source": [
    "def stat_dataset(dataset, path):\n",
    "    source_list = dataset[\"source\"]\n",
    "    source_counter = Counter(source_list)\n",
    "    source_counter = {k: v for k, v in source_counter.items()}\n",
    "\n",
    "    num_samples = len(dataset)\n",
    "    source_counter_perecent = {k: v / num_samples for k, v in source_counter.items()}\n",
    "\n",
    "    print(f\"{path}\\n{dataset}\\n{pprint.pformat(source_counter)}\\n{pprint.pformat(source_counter_perecent)}\\n\")"
   ]
  },
  {
   "cell_type": "code",
   "execution_count": 4,
   "metadata": {},
   "outputs": [
    {
     "name": "stdout",
     "output_type": "stream",
     "text": [
      "mmqm/m196k\n",
      "Dataset({\n",
      "    features: ['answer_idx', 'source', 'metadata', 'prompt', 'answer_letter', 'answer_string'],\n",
      "    num_rows: 196157\n",
      "})\n",
      "{'GBaker/MedQA-USMLE-4-options': 10178,\n",
      " 'openlifescienceai/headqa': 2657,\n",
      " 'openlifescienceai/medmcqa': 182822,\n",
      " 'qiaojin/PubMedQA:pqa_labeled': 500}\n",
      "{'GBaker/MedQA-USMLE-4-options': 0.05188700887554357,\n",
      " 'openlifescienceai/headqa': 0.013545272409345575,\n",
      " 'openlifescienceai/medmcqa': 0.9320187400908456,\n",
      " 'qiaojin/PubMedQA:pqa_labeled': 0.002548978624265257}\n",
      "\n",
      "mmqm/m196k\n",
      "Dataset({\n",
      "    features: ['answer_idx', 'source', 'metadata', 'prompt', 'answer_letter', 'answer_string'],\n",
      "    num_rows: 1250\n",
      "})\n",
      "{'GBaker/MedQA-USMLE-4-options': 72,\n",
      " 'openlifescienceai/headqa': 10,\n",
      " 'openlifescienceai/medmcqa': 1166,\n",
      " 'qiaojin/PubMedQA:pqa_labeled': 2}\n",
      "{'GBaker/MedQA-USMLE-4-options': 0.0576,\n",
      " 'openlifescienceai/headqa': 0.008,\n",
      " 'openlifescienceai/medmcqa': 0.9328,\n",
      " 'qiaojin/PubMedQA:pqa_labeled': 0.0016}\n",
      "\n"
     ]
    },
    {
     "name": "stderr",
     "output_type": "stream",
     "text": [
      "Creating parquet from Arrow format: 100%|██████████| 2/2 [00:00<00:00, 25.35ba/s]\n",
      "Uploading the dataset shards: 100%|██████████| 1/1 [00:01<00:00,  1.18s/it]\n"
     ]
    },
    {
     "name": "stdout",
     "output_type": "stream",
     "text": [
      "mmqm/m196k\n",
      "Dataset({\n",
      "    features: ['answer_idx', 'source', 'metadata', 'prompt', 'answer_letter', 'answer_string'],\n",
      "    num_rows: 29366\n",
      "})\n",
      "{'GBaker/MedQA-USMLE-4-options': 1559,\n",
      " 'openlifescienceai/headqa': 379,\n",
      " 'openlifescienceai/medmcqa': 27362,\n",
      " 'qiaojin/PubMedQA:pqa_labeled': 66}\n",
      "{'GBaker/MedQA-USMLE-4-options': 0.05308860587073486,\n",
      " 'openlifescienceai/headqa': 0.012906081863379418,\n",
      " 'openlifescienceai/medmcqa': 0.9317578151603896,\n",
      " 'qiaojin/PubMedQA:pqa_labeled': 0.002247497105496152}\n",
      "\n"
     ]
    },
    {
     "name": "stderr",
     "output_type": "stream",
     "text": [
      "Creating parquet from Arrow format: 100%|██████████| 30/30 [00:01<00:00, 25.57ba/s]\n",
      "Uploading the dataset shards: 100%|██████████| 1/1 [00:03<00:00,  3.09s/it]\n"
     ]
    },
    {
     "data": {
      "text/plain": [
       "CommitInfo(commit_url='https://huggingface.co/datasets/mmqm/m196k-random_23k/commit/bccab4e1c34bb6484bed2cc324d980bc865d5656', commit_message='Upload dataset', commit_description='', oid='bccab4e1c34bb6484bed2cc324d980bc865d5656', pr_url=None, repo_url=RepoUrl('https://huggingface.co/datasets/mmqm/m196k-random_23k', endpoint='https://huggingface.co', repo_type='dataset', repo_id='mmqm/m196k-random_23k'), pr_revision=None, pr_num=None)"
      ]
     },
     "execution_count": 4,
     "metadata": {},
     "output_type": "execute_result"
    }
   ],
   "source": [
    "path = \"mmqm/m196k\"\n",
    "split = \"train\"\n",
    "dataset = datasets.load_dataset(path, split=split)\n",
    "\n",
    "stat_dataset(dataset, path)\n",
    "\n",
    "# shuffle with seed 42\n",
    "shuffled_dataset = dataset.shuffle(seed=42)\n",
    "\n",
    "\n",
    "estimated_acc = 0.80\n",
    "\n",
    "# random_1k\n",
    "num_samples = 1000\n",
    "num_samples = int(num_samples / estimated_acc)\n",
    "sampled_dataset = shuffled_dataset.select(range(num_samples))\n",
    "stat_dataset(sampled_dataset, path)\n",
    "\n",
    "sampled_dataset.push_to_hub(f\"{path}-random_1k\")\n",
    "\n",
    "\n",
    "# random_23k\n",
    "num_samples = 23493\n",
    "num_samples = int(num_samples / estimated_acc)\n",
    "sampled_dataset = shuffled_dataset.select(range(num_samples))\n",
    "stat_dataset(sampled_dataset, path)\n",
    "\n",
    "sampled_dataset.push_to_hub(f\"{path}-random_23k\")"
   ]
  },
  {
   "cell_type": "code",
   "execution_count": 5,
   "metadata": {},
   "outputs": [
    {
     "name": "stdout",
     "output_type": "stream",
     "text": [
      "mmqm/m196k-dedup-decon-filter_easy-r1-filter_wrong-decon_eval\n",
      "Dataset({\n",
      "    features: ['answer_idx', 'source', 'metadata', 'prompt', 'answer_letter', 'answer_string', 'qwen_7b-extracted_answer_string', 'qwen_7b-model_answer_string', 'qwen_7b-correct', 'qwen_32b-extracted_answer_string', 'qwen_32b-model_answer_string', 'qwen_32b-correct', 'reasoning', 'distilled_answer_string', 'r1-extracted_answer_string', 'r1-model_answer_string', 'r1-correct'],\n",
      "    num_rows: 23493\n",
      "})\n",
      "{'GBaker/MedQA-USMLE-4-options': 1628,\n",
      " 'openlifescienceai/headqa': 209,\n",
      " 'openlifescienceai/medmcqa': 21628,\n",
      " 'qiaojin/PubMedQA:pqa_labeled': 28}\n",
      "{'GBaker/MedQA-USMLE-4-options': 0.06929723747499256,\n",
      " 'openlifescienceai/headqa': 0.008896266973140936,\n",
      " 'openlifescienceai/medmcqa': 0.9206146511726897,\n",
      " 'qiaojin/PubMedQA:pqa_labeled': 0.001191844379176776}\n",
      "\n",
      "mmqm/m196k-dedup-decon-filter_easy-r1-filter_wrong-decon_eval\n",
      "Dataset({\n",
      "    features: ['answer_idx', 'source', 'metadata', 'prompt', 'answer_letter', 'answer_string', 'qwen_7b-extracted_answer_string', 'qwen_7b-model_answer_string', 'qwen_7b-correct', 'qwen_32b-extracted_answer_string', 'qwen_32b-model_answer_string', 'qwen_32b-correct', 'reasoning', 'distilled_answer_string', 'r1-extracted_answer_string', 'r1-model_answer_string', 'r1-correct'],\n",
      "    num_rows: 1000\n",
      "})\n",
      "{'GBaker/MedQA-USMLE-4-options': 78,\n",
      " 'openlifescienceai/headqa': 10,\n",
      " 'openlifescienceai/medmcqa': 909,\n",
      " 'qiaojin/PubMedQA:pqa_labeled': 3}\n",
      "{'GBaker/MedQA-USMLE-4-options': 0.078,\n",
      " 'openlifescienceai/headqa': 0.01,\n",
      " 'openlifescienceai/medmcqa': 0.909,\n",
      " 'qiaojin/PubMedQA:pqa_labeled': 0.003}\n",
      "\n"
     ]
    },
    {
     "name": "stderr",
     "output_type": "stream",
     "text": [
      "Creating parquet from Arrow format: 100%|██████████| 1/1 [00:00<00:00,  6.10ba/s]\n",
      "Uploading the dataset shards: 100%|██████████| 1/1 [00:00<00:00,  2.19it/s]\n",
      "No files have been modified since last commit. Skipping to prevent empty commit.\n"
     ]
    },
    {
     "data": {
      "text/plain": [
       "CommitInfo(commit_url='https://huggingface.co/datasets/mmqm/m196k-dedup-decon-filter_easy-r1-filter_wrong-decon_eval-hard_random_1k/commit/3e2f34257040f4aff83506aa1bf073eee2d1c6a9', commit_message='Upload dataset', commit_description='', oid='3e2f34257040f4aff83506aa1bf073eee2d1c6a9', pr_url=None, repo_url=RepoUrl('https://huggingface.co/datasets/mmqm/m196k-dedup-decon-filter_easy-r1-filter_wrong-decon_eval-hard_random_1k', endpoint='https://huggingface.co', repo_type='dataset', repo_id='mmqm/m196k-dedup-decon-filter_easy-r1-filter_wrong-decon_eval-hard_random_1k'), pr_revision=None, pr_num=None)"
      ]
     },
     "execution_count": 5,
     "metadata": {},
     "output_type": "execute_result"
    }
   ],
   "source": [
    "# hard-random-1k\n",
    "\n",
    "path = \"mmqm/m196k-dedup-decon-filter_easy-r1-filter_wrong-decon_eval\"\n",
    "split = \"train\"\n",
    "dataset = datasets.load_dataset(path, split=split)\n",
    "\n",
    "stat_dataset(dataset, path)\n",
    "\n",
    "# shuffle with seed 42\n",
    "shuffled_dataset = dataset.shuffle(seed=42)\n",
    "\n",
    "# hard_random_1k\n",
    "num_samples = 1000\n",
    "sampled_dataset = shuffled_dataset.select(range(num_samples))\n",
    "stat_dataset(sampled_dataset, path)\n",
    "\n",
    "sampled_dataset.push_to_hub(f\"{path}-hard_random_1k\")"
   ]
  }
 ],
 "metadata": {
  "kernelspec": {
   "display_name": "m1",
   "language": "python",
   "name": "python3"
  },
  "language_info": {
   "codemirror_mode": {
    "name": "ipython",
    "version": 3
   },
   "file_extension": ".py",
   "mimetype": "text/x-python",
   "name": "python",
   "nbconvert_exporter": "python",
   "pygments_lexer": "ipython3",
   "version": "3.10.16"
  }
 },
 "nbformat": 4,
 "nbformat_minor": 2
}
